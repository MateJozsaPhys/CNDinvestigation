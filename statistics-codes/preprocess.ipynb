{
 "cells": [
  {
   "cell_type": "code",
   "execution_count": 1,
   "metadata": {},
   "outputs": [
    {
     "name": "stdout",
     "output_type": "stream",
     "text": [
      "Populating the interactive namespace from numpy and matplotlib\n"
     ]
    }
   ],
   "source": [
    "%pylab inline\n",
    "import pandas\n",
    "from collections import Counter"
   ]
  },
  {
   "cell_type": "markdown",
   "metadata": {},
   "source": [
    "### Read in the whole dataset:"
   ]
  },
  {
   "cell_type": "code",
   "execution_count": 2,
   "metadata": {},
   "outputs": [
    {
     "name": "stdout",
     "output_type": "stream",
     "text": [
      "4729 network x 210 feature\n"
     ]
    },
    {
     "data": {
      "text/html": [
       "<div>\n",
       "<style scoped>\n",
       "    .dataframe tbody tr th:only-of-type {\n",
       "        vertical-align: middle;\n",
       "    }\n",
       "\n",
       "    .dataframe tbody tr th {\n",
       "        vertical-align: top;\n",
       "    }\n",
       "\n",
       "    .dataframe thead th {\n",
       "        text-align: right;\n",
       "    }\n",
       "</style>\n",
       "<table border=\"1\" class=\"dataframe\">\n",
       "  <thead>\n",
       "    <tr style=\"text-align: right;\">\n",
       "      <th></th>\n",
       "      <th>Id</th>\n",
       "      <th>AverageDegreeConnectivity_max</th>\n",
       "      <th>AverageDegreeConnectivity_max-1</th>\n",
       "      <th>AverageDegreeConnectivity_min</th>\n",
       "      <th>AverageDegreeConnectivity_min-1</th>\n",
       "      <th>AverageDegreeConnectivity_mom1</th>\n",
       "      <th>AverageDegreeConnectivity_mom2</th>\n",
       "      <th>AverageDegreeConnectivity_mom3</th>\n",
       "      <th>AverageDegreeConnectivity_mom4</th>\n",
       "      <th>BetweenessNodeCentrality_max</th>\n",
       "      <th>...</th>\n",
       "      <th>RichClubCoef_max</th>\n",
       "      <th>RichClubCoef_max-1</th>\n",
       "      <th>RichClubCoef_min</th>\n",
       "      <th>RichClubCoef_min-1</th>\n",
       "      <th>RichClubCoef_mom1</th>\n",
       "      <th>RichClubCoef_mom2</th>\n",
       "      <th>RichClubCoef_mom3</th>\n",
       "      <th>RichClubCoef_mom4</th>\n",
       "      <th>ShanonEntropy</th>\n",
       "      <th>CND</th>\n",
       "    </tr>\n",
       "  </thead>\n",
       "  <tbody>\n",
       "    <tr>\n",
       "      <th>0</th>\n",
       "      <td>Norwegian_Board_of_Directors_net1mode_2007-12-01</td>\n",
       "      <td>15.296296</td>\n",
       "      <td>13.625000</td>\n",
       "      <td>4.000000</td>\n",
       "      <td>6.600000</td>\n",
       "      <td>0.621266</td>\n",
       "      <td>0.407503</td>\n",
       "      <td>0.281137</td>\n",
       "      <td>0.203637</td>\n",
       "      <td>86807.878666</td>\n",
       "      <td>...</td>\n",
       "      <td>1.000000</td>\n",
       "      <td>1.000000</td>\n",
       "      <td>0.008294</td>\n",
       "      <td>0.008311</td>\n",
       "      <td>0.172207</td>\n",
       "      <td>0.082552</td>\n",
       "      <td>0.065968</td>\n",
       "      <td>0.062088</td>\n",
       "      <td>2.476406</td>\n",
       "      <td>affiliation</td>\n",
       "    </tr>\n",
       "    <tr>\n",
       "      <th>1</th>\n",
       "      <td>Norwegian_Board_of_Directors_net1mode_2006-08-01</td>\n",
       "      <td>17.728395</td>\n",
       "      <td>17.545455</td>\n",
       "      <td>3.000000</td>\n",
       "      <td>6.088235</td>\n",
       "      <td>0.528306</td>\n",
       "      <td>0.319825</td>\n",
       "      <td>0.221987</td>\n",
       "      <td>0.173870</td>\n",
       "      <td>47816.047583</td>\n",
       "      <td>...</td>\n",
       "      <td>0.468254</td>\n",
       "      <td>0.384946</td>\n",
       "      <td>0.012260</td>\n",
       "      <td>0.012298</td>\n",
       "      <td>0.339844</td>\n",
       "      <td>0.180662</td>\n",
       "      <td>0.117902</td>\n",
       "      <td>0.087885</td>\n",
       "      <td>2.420699</td>\n",
       "      <td>affiliation</td>\n",
       "    </tr>\n",
       "    <tr>\n",
       "      <th>2</th>\n",
       "      <td>Norwegian_Board_of_Directors_net1mode_2006-09-01</td>\n",
       "      <td>18.261438</td>\n",
       "      <td>17.545455</td>\n",
       "      <td>3.000000</td>\n",
       "      <td>6.088235</td>\n",
       "      <td>0.518756</td>\n",
       "      <td>0.307042</td>\n",
       "      <td>0.207665</td>\n",
       "      <td>0.158355</td>\n",
       "      <td>57491.777778</td>\n",
       "      <td>...</td>\n",
       "      <td>0.468254</td>\n",
       "      <td>0.384946</td>\n",
       "      <td>0.012319</td>\n",
       "      <td>0.012356</td>\n",
       "      <td>0.319307</td>\n",
       "      <td>0.162343</td>\n",
       "      <td>0.104315</td>\n",
       "      <td>0.078009</td>\n",
       "      <td>2.440700</td>\n",
       "      <td>affiliation</td>\n",
       "    </tr>\n",
       "    <tr>\n",
       "      <th>3</th>\n",
       "      <td>Norwegian_Board_of_Directors_net1mode_2006-10-01</td>\n",
       "      <td>18.379630</td>\n",
       "      <td>17.285714</td>\n",
       "      <td>3.000000</td>\n",
       "      <td>6.575000</td>\n",
       "      <td>0.543699</td>\n",
       "      <td>0.328027</td>\n",
       "      <td>0.218016</td>\n",
       "      <td>0.158337</td>\n",
       "      <td>59455.229336</td>\n",
       "      <td>...</td>\n",
       "      <td>0.438424</td>\n",
       "      <td>0.342803</td>\n",
       "      <td>0.000000</td>\n",
       "      <td>0.000000</td>\n",
       "      <td>0.275211</td>\n",
       "      <td>0.142274</td>\n",
       "      <td>0.090978</td>\n",
       "      <td>0.066803</td>\n",
       "      <td>2.512424</td>\n",
       "      <td>affiliation</td>\n",
       "    </tr>\n",
       "    <tr>\n",
       "      <th>4</th>\n",
       "      <td>Norwegian_Board_of_Directors_net1mode_2006-11-01</td>\n",
       "      <td>18.307018</td>\n",
       "      <td>15.055556</td>\n",
       "      <td>6.457143</td>\n",
       "      <td>6.842105</td>\n",
       "      <td>0.543538</td>\n",
       "      <td>0.317351</td>\n",
       "      <td>0.200886</td>\n",
       "      <td>0.138364</td>\n",
       "      <td>47108.001407</td>\n",
       "      <td>...</td>\n",
       "      <td>0.438424</td>\n",
       "      <td>0.342803</td>\n",
       "      <td>0.000000</td>\n",
       "      <td>0.000000</td>\n",
       "      <td>0.267398</td>\n",
       "      <td>0.136614</td>\n",
       "      <td>0.087487</td>\n",
       "      <td>0.064722</td>\n",
       "      <td>2.482343</td>\n",
       "      <td>affiliation</td>\n",
       "    </tr>\n",
       "  </tbody>\n",
       "</table>\n",
       "<p>5 rows × 210 columns</p>\n",
       "</div>"
      ],
      "text/plain": [
       "                                                 Id  \\\n",
       "0  Norwegian_Board_of_Directors_net1mode_2007-12-01   \n",
       "1  Norwegian_Board_of_Directors_net1mode_2006-08-01   \n",
       "2  Norwegian_Board_of_Directors_net1mode_2006-09-01   \n",
       "3  Norwegian_Board_of_Directors_net1mode_2006-10-01   \n",
       "4  Norwegian_Board_of_Directors_net1mode_2006-11-01   \n",
       "\n",
       "   AverageDegreeConnectivity_max  AverageDegreeConnectivity_max-1  \\\n",
       "0                      15.296296                        13.625000   \n",
       "1                      17.728395                        17.545455   \n",
       "2                      18.261438                        17.545455   \n",
       "3                      18.379630                        17.285714   \n",
       "4                      18.307018                        15.055556   \n",
       "\n",
       "   AverageDegreeConnectivity_min  AverageDegreeConnectivity_min-1  \\\n",
       "0                       4.000000                         6.600000   \n",
       "1                       3.000000                         6.088235   \n",
       "2                       3.000000                         6.088235   \n",
       "3                       3.000000                         6.575000   \n",
       "4                       6.457143                         6.842105   \n",
       "\n",
       "   AverageDegreeConnectivity_mom1  AverageDegreeConnectivity_mom2  \\\n",
       "0                        0.621266                        0.407503   \n",
       "1                        0.528306                        0.319825   \n",
       "2                        0.518756                        0.307042   \n",
       "3                        0.543699                        0.328027   \n",
       "4                        0.543538                        0.317351   \n",
       "\n",
       "   AverageDegreeConnectivity_mom3  AverageDegreeConnectivity_mom4  \\\n",
       "0                        0.281137                        0.203637   \n",
       "1                        0.221987                        0.173870   \n",
       "2                        0.207665                        0.158355   \n",
       "3                        0.218016                        0.158337   \n",
       "4                        0.200886                        0.138364   \n",
       "\n",
       "   BetweenessNodeCentrality_max  ...  RichClubCoef_max  RichClubCoef_max-1  \\\n",
       "0                  86807.878666  ...          1.000000            1.000000   \n",
       "1                  47816.047583  ...          0.468254            0.384946   \n",
       "2                  57491.777778  ...          0.468254            0.384946   \n",
       "3                  59455.229336  ...          0.438424            0.342803   \n",
       "4                  47108.001407  ...          0.438424            0.342803   \n",
       "\n",
       "   RichClubCoef_min  RichClubCoef_min-1  RichClubCoef_mom1  RichClubCoef_mom2  \\\n",
       "0          0.008294            0.008311           0.172207           0.082552   \n",
       "1          0.012260            0.012298           0.339844           0.180662   \n",
       "2          0.012319            0.012356           0.319307           0.162343   \n",
       "3          0.000000            0.000000           0.275211           0.142274   \n",
       "4          0.000000            0.000000           0.267398           0.136614   \n",
       "\n",
       "   RichClubCoef_mom3  RichClubCoef_mom4  ShanonEntropy          CND  \n",
       "0           0.065968           0.062088       2.476406  affiliation  \n",
       "1           0.117902           0.087885       2.420699  affiliation  \n",
       "2           0.104315           0.078009       2.440700  affiliation  \n",
       "3           0.090978           0.066803       2.512424  affiliation  \n",
       "4           0.087487           0.064722       2.482343  affiliation  \n",
       "\n",
       "[5 rows x 210 columns]"
      ]
     },
     "execution_count": 2,
     "metadata": {},
     "output_type": "execute_result"
    }
   ],
   "source": [
    "df = pandas.read_csv(\"../CND-features.csv\")\n",
    "print(df.shape[0], \"network x\", df.shape[1], \"feature\")\n",
    "df.head()"
   ]
  },
  {
   "cell_type": "markdown",
   "metadata": {},
   "source": [
    "### Drop entries not calculated at least in 80%:"
   ]
  },
  {
   "cell_type": "code",
   "execution_count": 3,
   "metadata": {},
   "outputs": [
    {
     "name": "stdout",
     "output_type": "stream",
     "text": [
      "New shape:  (4368, 210)\n"
     ]
    }
   ],
   "source": [
    "df.dropna(axis = 0, thresh = 0.8*(df.shape[1]-2), inplace = True)\n",
    "df = df.reset_index(drop = True)\n",
    "print(\"New shape: \", df.shape)"
   ]
  },
  {
   "cell_type": "markdown",
   "metadata": {},
   "source": [
    "### Merge small groups ( $<10$ ) into one big group named \"other\":"
   ]
  },
  {
   "cell_type": "code",
   "execution_count": 4,
   "metadata": {},
   "outputs": [],
   "source": [
    "for CND in unique(df.CND):\n",
    "    if (len(df[df.CND==CND]) < 10):\n",
    "        df.loc[list(df[df.CND==CND].index), \"CND\"] = \"other\""
   ]
  },
  {
   "cell_type": "markdown",
   "metadata": {},
   "source": [
    "### Number of elements in each group:"
   ]
  },
  {
   "cell_type": "code",
   "execution_count": 5,
   "metadata": {},
   "outputs": [
    {
     "data": {
      "text/plain": [
       "Counter({'affiliation': 111,\n",
       "         'animal': 547,\n",
       "         'brain': 29,\n",
       "         'cheminformatics': 514,\n",
       "         'other': 48,\n",
       "         'digital': 37,\n",
       "         'economic': 27,\n",
       "         'facebook': 51,\n",
       "         'genetic': 35,\n",
       "         'metabolic': 2634,\n",
       "         'protein': 73,\n",
       "         'retweet': 30,\n",
       "         'road': 17,\n",
       "         'social': 102,\n",
       "         'software': 16,\n",
       "         'tissue': 32,\n",
       "         'transport': 51,\n",
       "         'web': 14})"
      ]
     },
     "execution_count": 5,
     "metadata": {},
     "output_type": "execute_result"
    }
   ],
   "source": [
    "Counter(df.CND)"
   ]
  },
  {
   "cell_type": "markdown",
   "metadata": {},
   "source": [
    "### Drop infinity value (only one):"
   ]
  },
  {
   "cell_type": "code",
   "execution_count": 6,
   "metadata": {},
   "outputs": [],
   "source": [
    "dinf = isinf(df[df.columns[1:-1]]).sum(axis=1)\n",
    "df = df.drop(array(dinf[dinf>0].index))\n",
    "df = df.reset_index(drop = True)"
   ]
  },
  {
   "cell_type": "markdown",
   "metadata": {},
   "source": [
    "### Handling missing values:\n",
    "1. Save features from groups which are not calculated at least in 80% (later this will not be taken into account)\n",
    "2. Impute missing values with random values generated between the first and third quartiles\n",
    "3. If values are integer numbers than input them with integer values between the specified quartiles"
   ]
  },
  {
   "cell_type": "code",
   "execution_count": 7,
   "metadata": {},
   "outputs": [],
   "source": [
    "def IsIntegerArray(arr):\n",
    "    arr = arr.astype(\"float\")\n",
    "    temp = array([arr[i].is_integer() for i in range(len(arr))]) \n",
    "    return temp.sum() == len(arr)\n",
    "\n",
    "for CND in unique(df.CND):\n",
    "    dfg = df[df.CND==CND]\n",
    "    indgroup = list(dfg.index)\n",
    "    nulls = dfg.isnull().sum()[1:-1]/len(dfg)*100\n",
    "    todelete = where(nulls>=20)[0]\n",
    "    if len(todelete)>0:\n",
    "        savetxt(\"deletefeatures/\"+CND+\".txt\", list(dfg.columns[1:-1][todelete]), fmt=\"%s\")\n",
    "    toimpute = where(nulls>0)[0]\n",
    "    if len(toimpute)>0:\n",
    "        imputefeats = list(dfg.columns[1:-1][toimpute])\n",
    "        for feat in imputefeats:\n",
    "            vals = df.loc[indgroup][feat]\n",
    "            vals = vals[~isnan(vals)]\n",
    "            if (not IsIntegerArray(vals.values)):\n",
    "                quartiles = vals.quantile([0.25, 0.75]).values\n",
    "                rndnums = uniform(low=quartiles[0], high=quartiles[1], size=df.loc[indgroup][feat].isnull().sum())\n",
    "            else:\n",
    "                quartiles = vals.quantile([0.25, 0.75]).values.astype(int)\n",
    "                quartiles = unique(quartiles)\n",
    "                if (len(quartiles)==2):\n",
    "                    rndnums = randint(low=quartiles[0], high=quartiles[1]+1, \n",
    "                                      size=df.loc[indgroup][feat].isnull().sum())\n",
    "                else:\n",
    "                    rndnums = ones(int(df.loc[indgroup][feat].isnull().sum()))*quartiles[0]\n",
    "            indx2impute = df.loc[indgroup][df.loc[indgroup][feat].isnull()].index.tolist()\n",
    "            df.loc[indx2impute, feat] = rndnums"
   ]
  },
  {
   "cell_type": "code",
   "execution_count": 8,
   "metadata": {},
   "outputs": [],
   "source": [
    "df.to_csv(\"CND-features_processed.csv\", index=False)"
   ]
  }
 ],
 "metadata": {
  "kernelspec": {
   "display_name": "Python 3",
   "language": "python",
   "name": "python3"
  },
  "language_info": {
   "codemirror_mode": {
    "name": "ipython",
    "version": 3
   },
   "file_extension": ".py",
   "mimetype": "text/x-python",
   "name": "python",
   "nbconvert_exporter": "python",
   "pygments_lexer": "ipython3",
   "version": "3.6.9"
  }
 },
 "nbformat": 4,
 "nbformat_minor": 4
}
