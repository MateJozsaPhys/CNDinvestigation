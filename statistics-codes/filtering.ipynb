{
 "cells": [
  {
   "cell_type": "code",
   "execution_count": 1,
   "metadata": {},
   "outputs": [
    {
     "name": "stdout",
     "output_type": "stream",
     "text": [
      "Populating the interactive namespace from numpy and matplotlib\n"
     ]
    }
   ],
   "source": [
    "%pylab inline\n",
    "import pandas"
   ]
  },
  {
   "cell_type": "code",
   "execution_count": 2,
   "metadata": {},
   "outputs": [],
   "source": [
    "df = pandas.read_csv(\"CND-features_processed.csv\")"
   ]
  },
  {
   "cell_type": "markdown",
   "metadata": {},
   "source": [
    "### Drop features which has many equal values (more than 80% inside a given CND):"
   ]
  },
  {
   "cell_type": "code",
   "execution_count": 3,
   "metadata": {},
   "outputs": [
    {
     "name": "stdout",
     "output_type": "stream",
     "text": [
      "Dropping 44 features...\n"
     ]
    }
   ],
   "source": [
    "TODROP = []\n",
    "for CND in unique(df.CND):\n",
    "    dfg = df[df.CND==CND]\n",
    "    dfg = dfg[dfg.columns[1:-1]]\n",
    "    TODROP = TODROP + list(dfg.columns[(len(dfg)-dfg.nunique())/len(dfg) > 0.8])\n",
    "TODROP = array(TODROP)\n",
    "TODROP = unique(TODROP)\n",
    "print(\"Dropping\",len(TODROP),\"features...\")\n",
    "df = df.drop(TODROP, axis=1)"
   ]
  },
  {
   "cell_type": "markdown",
   "metadata": {},
   "source": [
    "### Drop one from each correlated ($C_{Pearson/Spearman}>0.9$) feature pairs:\n",
    "1. Also, here the appropriate features discussed in previous step were ommited\n",
    "2. The remaining, independent ($C_{Pearson/Spearman}<0.9$) variables of each CND are saved in the folder \"$\\textit{filter}$\""
   ]
  },
  {
   "cell_type": "code",
   "execution_count": 4,
   "metadata": {},
   "outputs": [],
   "source": [
    "THRESHOLD = 0.9\n",
    "def ReduceCorr(dataframe, METHOD):\n",
    "    corr_matrix = dataframe.corr(method=METHOD).abs()\n",
    "    upper = corr_matrix.where(triu(ones(corr_matrix.shape), k=1).astype(bool))\n",
    "    to_drop = [column for column in upper.columns if any(upper[column] > THRESHOLD)]\n",
    "    dataframe = dataframe.drop(to_drop, axis=1)\n",
    "    return dataframe"
   ]
  },
  {
   "cell_type": "code",
   "execution_count": 5,
   "metadata": {},
   "outputs": [],
   "source": [
    "for CND in unique(df.CND):\n",
    "    try:\n",
    "        what2del = loadtxt(\"deletefeatures/\"+CND+\".txt\", dtype=\"str\")\n",
    "        dfnew = df[[\"Id\"]+list(setdiff1d(array(df.columns[1:-1]), what2del))+[\"CND\"]]\n",
    "        dfnew = dfnew[dfnew.CND==CND]\n",
    "    except:\n",
    "        dfnew = df[df.CND==CND]\n",
    "    savetxt(\"filter/\"+CND+\".txt\", \n",
    "            array(ReduceCorr(ReduceCorr(dfnew, \"pearson\"), \"spearman\").columns[1:-1]), fmt=\"%s\")"
   ]
  }
 ],
 "metadata": {
  "kernelspec": {
   "display_name": "Python 3",
   "language": "python",
   "name": "python3"
  },
  "language_info": {
   "codemirror_mode": {
    "name": "ipython",
    "version": 3
   },
   "file_extension": ".py",
   "mimetype": "text/x-python",
   "name": "python",
   "nbconvert_exporter": "python",
   "pygments_lexer": "ipython3",
   "version": "3.6.9"
  }
 },
 "nbformat": 4,
 "nbformat_minor": 4
}
