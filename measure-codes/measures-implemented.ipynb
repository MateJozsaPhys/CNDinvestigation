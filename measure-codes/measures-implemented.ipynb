{
 "cells": [
  {
   "cell_type": "code",
   "execution_count": 1,
   "metadata": {},
   "outputs": [
    {
     "name": "stdout",
     "output_type": "stream",
     "text": [
      "Populating the interactive namespace from numpy and matplotlib\n"
     ]
    }
   ],
   "source": [
    "%pylab inline\n",
    "import igraph\n",
    "import networkx\n",
    "from itertools import combinations\n",
    "from scipy.sparse import lil_matrix, diags\n",
    "from scipy.sparse.linalg import eigsh"
   ]
  },
  {
   "cell_type": "markdown",
   "metadata": {},
   "source": [
    "### Read edge-list from binary file:"
   ]
  },
  {
   "cell_type": "code",
   "execution_count": 2,
   "metadata": {},
   "outputs": [],
   "source": [
    "path = \"expl_metabolic.bin\"\n",
    "EL = fromfile(path, dtype = int32).reshape((-1, 2))"
   ]
  },
  {
   "cell_type": "markdown",
   "metadata": {},
   "source": [
    "### Make indexing after 0 for igraph:"
   ]
  },
  {
   "cell_type": "code",
   "execution_count": 3,
   "metadata": {},
   "outputs": [],
   "source": [
    "UEL = unique(EL)\n",
    "EL = vectorize(dict(zip(UEL, arange(len(UEL)))).__getitem__)(EL)"
   ]
  },
  {
   "cell_type": "markdown",
   "metadata": {},
   "source": [
    "### Create igraph object:"
   ]
  },
  {
   "cell_type": "code",
   "execution_count": 4,
   "metadata": {},
   "outputs": [],
   "source": [
    "g = igraph.Graph()\n",
    "g.add_vertices(unique(EL))\n",
    "g.add_edges(EL)"
   ]
  },
  {
   "cell_type": "markdown",
   "metadata": {},
   "source": [
    "### Create NetworkX object:"
   ]
  },
  {
   "cell_type": "code",
   "execution_count": 5,
   "metadata": {},
   "outputs": [],
   "source": [
    "gnx = networkx.Graph()\n",
    "gnx.add_nodes_from(unique(EL))\n",
    "gnx.add_edges_from(EL)"
   ]
  },
  {
   "cell_type": "markdown",
   "metadata": {},
   "source": [
    "### Calculate the number of $\\textit{nodes}$ and $\\textit{edges}$:"
   ]
  },
  {
   "cell_type": "code",
   "execution_count": 6,
   "metadata": {},
   "outputs": [
    {
     "name": "stdout",
     "output_type": "stream",
     "text": [
      "Number of nodes:  1121\n",
      "Number of edges:  3845\n"
     ]
    }
   ],
   "source": [
    "nodes = g.vcount()\n",
    "edges = g.ecount()\n",
    "print(\"Number of nodes: \", nodes) # number of vertices\n",
    "print(\"Number of edges: \", edges) # number of edges"
   ]
  },
  {
   "cell_type": "markdown",
   "metadata": {},
   "source": [
    "### Calculate the degree distribution ($P_k$):"
   ]
  },
  {
   "cell_type": "code",
   "execution_count": 7,
   "metadata": {},
   "outputs": [],
   "source": [
    "deg = g.degree()\n",
    "k, Nk = unique(deg, return_counts=True)\n",
    "Pk = Nk/sum(Nk)"
   ]
  },
  {
   "cell_type": "markdown",
   "metadata": {},
   "source": [
    "### Calculate $\\textit{Shanon entropy}$ ($-\\sum_k P_k \\cdot \\log{P_k}$) as proposed in [1]:"
   ]
  },
  {
   "cell_type": "code",
   "execution_count": 8,
   "metadata": {},
   "outputs": [
    {
     "name": "stdout",
     "output_type": "stream",
     "text": [
      "Shannon entropy:  2.378932968683868\n"
     ]
    }
   ],
   "source": [
    "ShanonEntropy = -sum(Pk*log(Pk))\n",
    "print(\"Shannon entropy: \", ShanonEntropy)"
   ]
  },
  {
   "cell_type": "markdown",
   "metadata": {},
   "source": [
    "### Calculate the $\\textit{Energy}$ ($\\log (\\prod_k k!^{N_k})$) as proposed in [2]:"
   ]
  },
  {
   "cell_type": "code",
   "execution_count": 9,
   "metadata": {},
   "outputs": [
    {
     "name": "stdout",
     "output_type": "stream",
     "text": [
      "Energy:  15905.526641072065\n"
     ]
    }
   ],
   "source": [
    "Energy = sum(Nk*array([sum([log(i) for i in range(1, j+1)]) for j in k]))\n",
    "print(\"Energy: \", Energy)"
   ]
  },
  {
   "cell_type": "markdown",
   "metadata": {},
   "source": [
    "### Calculate the  $\\textit{Entropy}$ ($\\log(\\frac{(2L)!}{\\prod_k (k \\cdot N_k)!})$) as proposed in [2]:"
   ]
  },
  {
   "cell_type": "code",
   "execution_count": 10,
   "metadata": {},
   "outputs": [
    {
     "name": "stdout",
     "output_type": "stream",
     "text": [
      "Entropy:  -7267.711254442438\n"
     ]
    }
   ],
   "source": [
    "twoL = g.ecount()\n",
    "Entropy = sum([log(j) for j in range(1, twoL+1)]) - sum([sum([log(t) for t in range(1, k[r]*Nk[r])]) \n",
    "                                                         for r in range(len(k))]) \n",
    "print(\"Entropy: \", Entropy)"
   ]
  },
  {
   "cell_type": "markdown",
   "metadata": {},
   "source": [
    "### Calculate the  $\\textit{Spearman correlation coefficient}$ as proposed in [3]:"
   ]
  },
  {
   "cell_type": "code",
   "execution_count": 11,
   "metadata": {},
   "outputs": [
    {
     "name": "stdout",
     "output_type": "stream",
     "text": [
      "Spearman correlation coefficient:  -0.20311941439819917\n"
     ]
    }
   ],
   "source": [
    "def SpearmanCorrelationCoefficient(graph):\n",
    "    u, c = unique(array(networkx.degree(graph))[:, 1], return_counts=True)\n",
    "    kmin = min(u)\n",
    "    kmax = max(u)\n",
    "    Nk = dict(zip(u, c))\n",
    "    for i in setdiff1d(arange(kmin, kmax), u):\n",
    "        Nk[i] = 0\n",
    "    NNN = sum([i*Nk[i] for i in range(kmin, kmax+1)])\n",
    "    X1 = []\n",
    "    X2 = []\n",
    "    for e in graph.edges():\n",
    "        k1 = graph.degree(e[0])\n",
    "        X1.append((sum([i*Nk[i] for i in range(kmin, k1)]) + 0.5*k1*Nk[k1])/NNN)\n",
    "        k2 = graph.degree(e[1])\n",
    "        X2.append((sum([i*Nk[i] for i in range(kmin, k2)]) + 0.5*k2*Nk[k2])/NNN)\n",
    "    X1 = array(X1)\n",
    "    X2 = array(X2)\n",
    "    rS = (mean(X1*X2) - mean(X1)*mean(X2))/(std(X1)*std(X2))\n",
    "    return rS\n",
    "SpearmanCorr = SpearmanCorrelationCoefficient(gnx)\n",
    "print(\"Spearman correlation coefficient: \", SpearmanCorr)"
   ]
  },
  {
   "cell_type": "markdown",
   "metadata": {},
   "source": [
    "### Calculate the  $\\textit{eigenvalue distribution of the transition probability matrix (TPM)}$ as proposed in [4]:"
   ]
  },
  {
   "cell_type": "code",
   "execution_count": 12,
   "metadata": {},
   "outputs": [
    {
     "name": "stdout",
     "output_type": "stream",
     "text": [
      "Eigenvalue distribution of the TPM (min, min-1, max-1, max, mom1, mom2, mom3, mom4):  [-0.8944394013704453, -0.8313144903720628, 0.8912018761157647, 0.9916760056383392, 0.0008913684743778671, 0.14067107757684102, 0.002796156808739711, 0.04182204719921925]\n"
     ]
    }
   ],
   "source": [
    "def GiveMomAndMinMax(DISTRIBUTION):\n",
    "    # Function giving the following properties of a distribution:\n",
    "    # min, min-1, max-1, max, mom1, mom2, mom3, mom4\n",
    "    MIN_MAX_MOM = []\n",
    "    DISTRIBUTION = DISTRIBUTION[argsort(DISTRIBUTION)]\n",
    "    MIN_MAX_MOM.extend(list(DISTRIBUTION[:2]))\n",
    "    MIN_MAX_MOM.extend(list(DISTRIBUTION[-3:-1]))\n",
    "    DISTRIBUTION = DISTRIBUTION / DISTRIBUTION.max()\n",
    "    for i in range(1, 5):\n",
    "        MIN_MAX_MOM.append((DISTRIBUTION**i).sum() / len(DISTRIBUTION))\n",
    "    return MIN_MAX_MOM\n",
    "\n",
    "# Creating the Transition probability matrix in sparse format (to optimize memory usage):\n",
    "Lun = len(unique(EL)) + 1\n",
    "row = EL[:, 0]\n",
    "col = EL[:, 1]\n",
    "data = ones(len(row)).astype(\"int32\")\n",
    "m = lil_matrix((Lun, Lun), dtype = \"int32\") #more efficient\n",
    "m[row, col] = data\n",
    "m[col, row] = data\n",
    "m = m.tocsr()\n",
    "ondiag = array((m.sum(axis = 1) == 0).astype(\"int32\").flatten())[0]\n",
    "ondiag = diags(ondiag, format = \"csr\")\n",
    "m = m + ondiag\n",
    "m = diags(1/m.sum(axis = 1).A.ravel()).dot(m)\n",
    "\n",
    "# Calculating the eigenvalue distribution:\n",
    "eval_Distr = eigsh(m, k = m.shape[0] - 1, return_eigenvectors = False)\n",
    "\n",
    "# Calculating the extremal values and moments for global indicators:\n",
    "eval_Distr = GiveMomAndMinMax(eval_Distr)\n",
    "print(\"Eigenvalue distribution of the TPM (min, min-1, max-1, max, mom1, mom2, mom3, mom4): \", eval_Distr)"
   ]
  },
  {
   "cell_type": "markdown",
   "metadata": {},
   "source": [
    "## References\n",
    "1. Costa, L. da F., Rodrigues, F. A., Travieso, G., & Villas Boas, P. R. (2007). Characterization of complex networks: A survey of measurements. Advances in Physics, 56(1), 167–242.\n",
    "2. Ginestra Bianconi: “Degree distribution of complex networks from statistical mechanics principles”, 2006; [http://arxiv.org/abs/cond-mat/0606365 arXiv:cond-mat/0606365].\n",
    "3. Litvak, N., & van der Hofstad, R. (2013). Uncovering disassortativity in large scale-free networks. Physical Review E, 87(2).\n",
    "4. de Arruda, G. F., Rodrigues, F. A., & Moreno, Y. (2018). Fundamentals of spreading processes in single and multilayer complex networks. Physics Reports, 756, 1–59."
   ]
  }
 ],
 "metadata": {
  "kernelspec": {
   "display_name": "Python 3",
   "language": "python",
   "name": "python3"
  },
  "language_info": {
   "codemirror_mode": {
    "name": "ipython",
    "version": 3
   },
   "file_extension": ".py",
   "mimetype": "text/x-python",
   "name": "python",
   "nbconvert_exporter": "python",
   "pygments_lexer": "ipython3",
   "version": "3.6.9"
  }
 },
 "nbformat": 4,
 "nbformat_minor": 4
}
